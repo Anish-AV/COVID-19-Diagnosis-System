{
 "cells": [
  {
   "cell_type": "markdown",
   "metadata": {
    "colab_type": "text",
    "id": "kpc_Kyn8MUJ1"
   },
   "source": [
    "# **COVID 19 Diagnosis System**"
   ]
  },
  {
   "cell_type": "markdown",
   "metadata": {
    "colab_type": "text",
    "id": "dC9Y08bYQVcl"
   },
   "source": [
    "### **Importing the Libraries**"
   ]
  },
  {
   "cell_type": "code",
   "execution_count": 0,
   "metadata": {
    "colab": {},
    "colab_type": "code",
    "id": "u5j8z4HGV_20"
   },
   "outputs": [],
   "source": [
    "import tensorflow as tf\n",
    "import pandas as pd\n",
    "import random\n",
    "from imutils import paths\n",
    "from tensorflow.keras.applications import VGG16, VGG19\n",
    "import numpy as np\n",
    "import matplotlib.pyplot as plt\n",
    "import seaborn as sns\n",
    "from sklearn.model_selection import train_test_split\n",
    "from sklearn.metrics import classification_report, confusion_matrix\n",
    "from sklearn.preprocessing import LabelBinarizer\n",
    "import cv2\n",
    "import os"
   ]
  },
  {
   "cell_type": "markdown",
   "metadata": {
    "colab_type": "text",
    "id": "NVwh4rf4Qdjp"
   },
   "source": [
    "### **Data Exploration**"
   ]
  },
  {
   "cell_type": "code",
   "execution_count": 60,
   "metadata": {
    "colab": {
     "base_uri": "https://localhost:8080/",
     "height": 394
    },
    "colab_type": "code",
    "id": "9kzj0yTiQcd9",
    "outputId": "9ab802c6-2dd1-45bb-a369-c28bf18c07f2"
   },
   "outputs": [
    {
     "data": {
      "text/html": [
       "<div>\n",
       "<style scoped>\n",
       "    .dataframe tbody tr th:only-of-type {\n",
       "        vertical-align: middle;\n",
       "    }\n",
       "\n",
       "    .dataframe tbody tr th {\n",
       "        vertical-align: top;\n",
       "    }\n",
       "\n",
       "    .dataframe thead th {\n",
       "        text-align: right;\n",
       "    }\n",
       "</style>\n",
       "<table border=\"1\" class=\"dataframe\">\n",
       "  <thead>\n",
       "    <tr style=\"text-align: right;\">\n",
       "      <th></th>\n",
       "      <th>Patientid</th>\n",
       "      <th>offset</th>\n",
       "      <th>sex</th>\n",
       "      <th>age</th>\n",
       "      <th>finding</th>\n",
       "      <th>survival</th>\n",
       "      <th>view</th>\n",
       "      <th>modality</th>\n",
       "      <th>date</th>\n",
       "      <th>location</th>\n",
       "      <th>filename</th>\n",
       "      <th>doi</th>\n",
       "      <th>url</th>\n",
       "      <th>license</th>\n",
       "      <th>clinical notes</th>\n",
       "      <th>other notes</th>\n",
       "      <th>Unnamed: 16</th>\n",
       "    </tr>\n",
       "  </thead>\n",
       "  <tbody>\n",
       "    <tr>\n",
       "      <th>0</th>\n",
       "      <td>2</td>\n",
       "      <td>0.0</td>\n",
       "      <td>M</td>\n",
       "      <td>65.0</td>\n",
       "      <td>COVID-19</td>\n",
       "      <td>Y</td>\n",
       "      <td>PA</td>\n",
       "      <td>X-ray</td>\n",
       "      <td>2020</td>\n",
       "      <td>NaN</td>\n",
       "      <td>auntminnie-a-2020_01_28_23_51_6665_2020_01_28_...</td>\n",
       "      <td>10.1056/nejmc2001272</td>\n",
       "      <td>https://www.nejm.org/doi/full/10.1056/NEJMc200...</td>\n",
       "      <td>NaN</td>\n",
       "      <td>NaN</td>\n",
       "      <td>NaN</td>\n",
       "      <td>NaN</td>\n",
       "    </tr>\n",
       "    <tr>\n",
       "      <th>1</th>\n",
       "      <td>2</td>\n",
       "      <td>3.0</td>\n",
       "      <td>M</td>\n",
       "      <td>65.0</td>\n",
       "      <td>COVID-19</td>\n",
       "      <td>Y</td>\n",
       "      <td>PA</td>\n",
       "      <td>X-ray</td>\n",
       "      <td>2020</td>\n",
       "      <td>NaN</td>\n",
       "      <td>auntminnie-b-2020_01_28_23_51_6665_2020_01_28_...</td>\n",
       "      <td>10.1056/nejmc2001272</td>\n",
       "      <td>https://www.nejm.org/doi/full/10.1056/NEJMc200...</td>\n",
       "      <td>NaN</td>\n",
       "      <td>NaN</td>\n",
       "      <td>NaN</td>\n",
       "      <td>NaN</td>\n",
       "    </tr>\n",
       "    <tr>\n",
       "      <th>2</th>\n",
       "      <td>2</td>\n",
       "      <td>5.0</td>\n",
       "      <td>M</td>\n",
       "      <td>65.0</td>\n",
       "      <td>COVID-19</td>\n",
       "      <td>Y</td>\n",
       "      <td>PA</td>\n",
       "      <td>X-ray</td>\n",
       "      <td>2020</td>\n",
       "      <td>NaN</td>\n",
       "      <td>auntminnie-c-2020_01_28_23_51_6665_2020_01_28_...</td>\n",
       "      <td>10.1056/nejmc2001272</td>\n",
       "      <td>https://www.nejm.org/doi/full/10.1056/NEJMc200...</td>\n",
       "      <td>NaN</td>\n",
       "      <td>NaN</td>\n",
       "      <td>NaN</td>\n",
       "      <td>NaN</td>\n",
       "    </tr>\n",
       "    <tr>\n",
       "      <th>3</th>\n",
       "      <td>2</td>\n",
       "      <td>6.0</td>\n",
       "      <td>M</td>\n",
       "      <td>65.0</td>\n",
       "      <td>COVID-19</td>\n",
       "      <td>Y</td>\n",
       "      <td>PA</td>\n",
       "      <td>X-ray</td>\n",
       "      <td>2020</td>\n",
       "      <td>NaN</td>\n",
       "      <td>auntminnie-d-2020_01_28_23_51_6665_2020_01_28_...</td>\n",
       "      <td>10.1056/nejmc2001272</td>\n",
       "      <td>https://www.nejm.org/doi/full/10.1056/NEJMc200...</td>\n",
       "      <td>NaN</td>\n",
       "      <td>NaN</td>\n",
       "      <td>NaN</td>\n",
       "      <td>NaN</td>\n",
       "    </tr>\n",
       "    <tr>\n",
       "      <th>4</th>\n",
       "      <td>4</td>\n",
       "      <td>0.0</td>\n",
       "      <td>F</td>\n",
       "      <td>52.0</td>\n",
       "      <td>COVID-19</td>\n",
       "      <td>NaN</td>\n",
       "      <td>PA</td>\n",
       "      <td>X-ray</td>\n",
       "      <td>2020</td>\n",
       "      <td>Changhua Christian Hospital, Changhua City, Ta...</td>\n",
       "      <td>nejmc2001573_f1a.jpeg</td>\n",
       "      <td>10.1056/NEJMc2001573</td>\n",
       "      <td>https://www.nejm.org/doi/full/10.1056/NEJMc200...</td>\n",
       "      <td>NaN</td>\n",
       "      <td>diffuse infiltrates in the bilateral lower lungs</td>\n",
       "      <td>NaN</td>\n",
       "      <td>NaN</td>\n",
       "    </tr>\n",
       "  </tbody>\n",
       "</table>\n",
       "</div>"
      ],
      "text/plain": [
       "   Patientid  offset  ... other notes  Unnamed: 16\n",
       "0          2     0.0  ...         NaN          NaN\n",
       "1          2     3.0  ...         NaN          NaN\n",
       "2          2     5.0  ...         NaN          NaN\n",
       "3          2     6.0  ...         NaN          NaN\n",
       "4          4     0.0  ...         NaN          NaN\n",
       "\n",
       "[5 rows x 17 columns]"
      ]
     },
     "execution_count": 60,
     "metadata": {
      "tags": []
     },
     "output_type": "execute_result"
    }
   ],
   "source": [
    "#Loading the data about data\n",
    "covid_data = pd.read_csv('metadata.csv')\n",
    "covid_data.head()"
   ]
  },
  {
   "cell_type": "code",
   "execution_count": 61,
   "metadata": {
    "colab": {
     "base_uri": "https://localhost:8080/",
     "height": 419
    },
    "colab_type": "code",
    "id": "OccEtmllRplB",
    "outputId": "8964f2ab-fb3f-4796-dda7-6b0199dd67d2"
   },
   "outputs": [
    {
     "data": {
      "text/html": [
       "<div>\n",
       "<style scoped>\n",
       "    .dataframe tbody tr th:only-of-type {\n",
       "        vertical-align: middle;\n",
       "    }\n",
       "\n",
       "    .dataframe tbody tr th {\n",
       "        vertical-align: top;\n",
       "    }\n",
       "\n",
       "    .dataframe thead th {\n",
       "        text-align: right;\n",
       "    }\n",
       "</style>\n",
       "<table border=\"1\" class=\"dataframe\">\n",
       "  <thead>\n",
       "    <tr style=\"text-align: right;\">\n",
       "      <th></th>\n",
       "      <th>finding</th>\n",
       "      <th>view</th>\n",
       "      <th>modality</th>\n",
       "      <th>location</th>\n",
       "    </tr>\n",
       "  </thead>\n",
       "  <tbody>\n",
       "    <tr>\n",
       "      <th>0</th>\n",
       "      <td>COVID-19</td>\n",
       "      <td>PA</td>\n",
       "      <td>X-ray</td>\n",
       "      <td>NaN</td>\n",
       "    </tr>\n",
       "    <tr>\n",
       "      <th>1</th>\n",
       "      <td>COVID-19</td>\n",
       "      <td>PA</td>\n",
       "      <td>X-ray</td>\n",
       "      <td>NaN</td>\n",
       "    </tr>\n",
       "    <tr>\n",
       "      <th>2</th>\n",
       "      <td>COVID-19</td>\n",
       "      <td>PA</td>\n",
       "      <td>X-ray</td>\n",
       "      <td>NaN</td>\n",
       "    </tr>\n",
       "    <tr>\n",
       "      <th>3</th>\n",
       "      <td>COVID-19</td>\n",
       "      <td>PA</td>\n",
       "      <td>X-ray</td>\n",
       "      <td>NaN</td>\n",
       "    </tr>\n",
       "    <tr>\n",
       "      <th>4</th>\n",
       "      <td>COVID-19</td>\n",
       "      <td>PA</td>\n",
       "      <td>X-ray</td>\n",
       "      <td>Changhua Christian Hospital, Changhua City, Ta...</td>\n",
       "    </tr>\n",
       "    <tr>\n",
       "      <th>...</th>\n",
       "      <td>...</td>\n",
       "      <td>...</td>\n",
       "      <td>...</td>\n",
       "      <td>...</td>\n",
       "    </tr>\n",
       "    <tr>\n",
       "      <th>141</th>\n",
       "      <td>COVID-19</td>\n",
       "      <td>AP Supine</td>\n",
       "      <td>X-ray</td>\n",
       "      <td>Italy</td>\n",
       "    </tr>\n",
       "    <tr>\n",
       "      <th>142</th>\n",
       "      <td>COVID-19</td>\n",
       "      <td>PA</td>\n",
       "      <td>X-ray</td>\n",
       "      <td>The Royal Melbourne Hospital, Melbourne, Austr...</td>\n",
       "    </tr>\n",
       "    <tr>\n",
       "      <th>143</th>\n",
       "      <td>COVID-19</td>\n",
       "      <td>PA</td>\n",
       "      <td>X-ray</td>\n",
       "      <td>The Royal Melbourne Hospital, Melbourne, Austr...</td>\n",
       "    </tr>\n",
       "    <tr>\n",
       "      <th>144</th>\n",
       "      <td>COVID-19</td>\n",
       "      <td>AP</td>\n",
       "      <td>X-ray</td>\n",
       "      <td>NaN</td>\n",
       "    </tr>\n",
       "    <tr>\n",
       "      <th>145</th>\n",
       "      <td>COVID-19</td>\n",
       "      <td>PA</td>\n",
       "      <td>X-ray</td>\n",
       "      <td>Laniado Hospital, Netanya, Israel</td>\n",
       "    </tr>\n",
       "  </tbody>\n",
       "</table>\n",
       "<p>146 rows × 4 columns</p>\n",
       "</div>"
      ],
      "text/plain": [
       "      finding  ...                                           location\n",
       "0    COVID-19  ...                                                NaN\n",
       "1    COVID-19  ...                                                NaN\n",
       "2    COVID-19  ...                                                NaN\n",
       "3    COVID-19  ...                                                NaN\n",
       "4    COVID-19  ...  Changhua Christian Hospital, Changhua City, Ta...\n",
       "..        ...  ...                                                ...\n",
       "141  COVID-19  ...                                              Italy\n",
       "142  COVID-19  ...  The Royal Melbourne Hospital, Melbourne, Austr...\n",
       "143  COVID-19  ...  The Royal Melbourne Hospital, Melbourne, Austr...\n",
       "144  COVID-19  ...                                                NaN\n",
       "145  COVID-19  ...                  Laniado Hospital, Netanya, Israel\n",
       "\n",
       "[146 rows x 4 columns]"
      ]
     },
     "execution_count": 61,
     "metadata": {
      "tags": []
     },
     "output_type": "execute_result"
    }
   ],
   "source": [
    "covid_data[['finding','view','modality','location']]"
   ]
  },
  {
   "cell_type": "markdown",
   "metadata": {
    "colab_type": "text",
    "id": "avQZiKZ0Sas4"
   },
   "source": [
    "### **Loading the image data**"
   ]
  },
  {
   "cell_type": "code",
   "execution_count": 141,
   "metadata": {
    "colab": {
     "base_uri": "https://localhost:8080/",
     "height": 182
    },
    "colab_type": "code",
    "id": "Gw1L6huXSBMe",
    "outputId": "dd144a8d-d8b3-4e66-c852-c3cde68e2f5e"
   },
   "outputs": [
    {
     "name": "stdout",
     "output_type": "stream",
     "text": [
      "Number of training images:  138\n"
     ]
    },
    {
     "data": {
      "image/png": "[encoded data removed]",
      "text/plain": [
       "<Figure size 1224x1224 with 8 Axes>"
      ]
     },
     "metadata": {
      "needs_background": "light",
      "tags": []
     },
     "output_type": "display_data"
    }
   ],
   "source": [
    "#List of files\n",
    "path_list = list(paths.list_images('Dataset'))\n",
    "X = []\n",
    "Y = []\n",
    "\n",
    "\n",
    "for path in path_list:\n",
    "    # Set Class label\n",
    "    y = path.split(os.path.sep)[-2]\n",
    "    # change the color space of the image and reshape\n",
    "    image = cv2.imread(path)\n",
    "    image = cv2.cvtColor(image, cv2.COLOR_BGR2RGB)\n",
    "    image = cv2.resize(image, (512, 512))\n",
    "\n",
    "    # update the data and labels lists, respectively\n",
    "    X.append(image)\n",
    "    Y.append(y)\n",
    "\n",
    "# Normalize images\n",
    "X = np.array(X) / 255.0\n",
    "Y = np.array(Y)\n",
    "\n",
    "print('Number of training images: ', len(X))\n",
    "# Plot example patient scan\n",
    "W = 8\n",
    "L = 1\n",
    "fig, axes = plt.subplots(L, W, figsize = (17,17))\n",
    "axes = axes.ravel() \n",
    "n = 138\n",
    "for i in np.arange(0, W * L):\n",
    "    index = np.random.randint(0, n)    \n",
    "    axes[i].imshow( X[index] )\n",
    "    axes[i].set_title(Y[index])\n",
    "\n",
    "\n",
    "#one-hot encoding on the labels\n",
    "lb = LabelBinarizer()\n",
    "Y = lb.fit_transform(Y)\n",
    "Y = tf.keras.utils.to_categorical(Y)"
   ]
  },
  {
   "cell_type": "markdown",
   "metadata": {
    "colab_type": "text",
    "id": "bZY-SwmCdX3o"
   },
   "source": [
    "### **Splitting the data**"
   ]
  },
  {
   "cell_type": "code",
   "execution_count": 0,
   "metadata": {
    "colab": {},
    "colab_type": "code",
    "id": "ZMZGYzQWdgaK"
   },
   "outputs": [],
   "source": [
    "# split training and test data\n",
    "(X_train, x_test, Y_train, y_test) = train_test_split(X, Y,\n",
    "\ttest_size=0.20, stratify=Y, random_state=2019)\n",
    "\n",
    "(x_train, x_valid, y_train, y_valid) = train_test_split(X_train, Y_train,\n",
    "\ttest_size=0.20, stratify=Y_train, random_state=2019)"
   ]
  },
  {
   "cell_type": "markdown",
   "metadata": {
    "colab_type": "text",
    "id": "yIabWkNKh8Ty"
   },
   "source": [
    "### **Data Augmentation**"
   ]
  },
  {
   "cell_type": "code",
   "execution_count": 0,
   "metadata": {
    "colab": {},
    "colab_type": "code",
    "id": "Xlm0eTuahE3m"
   },
   "outputs": [],
   "source": [
    "Datagen= tf.keras.preprocessing.image.ImageDataGenerator(featurewise_center=True,featurewise_std_normalization=True,\n",
    "                            rotation_range=20,width_shift_range=0.2,\n",
    "                            height_shift_range=0.2,horizontal_flip=True)"
   ]
  },
  {
   "cell_type": "markdown",
   "metadata": {
    "colab_type": "text",
    "id": "RrE_uMSC0fbz"
   },
   "source": [
    "### **CNN Architecture**"
   ]
  },
  {
   "cell_type": "code",
   "execution_count": 0,
   "metadata": {
    "colab": {},
    "colab_type": "code",
    "id": "Hw5IRijzijJ1"
   },
   "outputs": [],
   "source": [
    "def Covid_model():\n",
    "    input_img = tf.keras.layers.Input(shape=(512, 512, 3))\n",
    "    baseModel = VGG16(weights=\"imagenet\", include_top=False,\n",
    "\t  input_tensor=tf.keras.layers.Input(shape=(512, 512, 3)))\n",
    "\n",
    "    # Make all pre-trained layers from VGG19 non-trainable \n",
    "    for layer in baseModel.layers[:-3]:\n",
    "        layer.trainable = False\n",
    "    x = baseModel.output\n",
    "    x = tf.keras.layers.Conv2D(32, (3, 3), activation='relu', padding='same')(x)\n",
    "    x = tf.keras.layers.BatchNormalization(axis=-1)(x)\n",
    "    x = tf.keras.layers.MaxPooling2D((2, 2), padding='same')(x)\n",
    "    x = tf.keras.layers.Dropout(0.25)(x)\n",
    "\n",
    "    x = tf.keras.layers.Conv2D(64, (3, 3), activation='relu', padding='same')(x)\n",
    "    x = tf.keras.layers.BatchNormalization(axis=-1)(x)\n",
    "\n",
    "    x = tf.keras.layers.Conv2D(64, (3, 3), activation='relu', padding='same')(x)\n",
    "    x = tf.keras.layers.BatchNormalization(axis=-1)(x)\n",
    "    x = tf.keras.layers.MaxPooling2D((2, 2), padding='same')(x)\n",
    "    x = tf.keras.layers.Dropout(0.25)(x)\n",
    "    \n",
    "\n",
    "    x = tf.keras.layers.Conv2D(128, (3, 3), activation='relu', padding='same')(x)\n",
    "    x = tf.keras.layers.BatchNormalization(axis=-1)(x)\n",
    "\n",
    "    x = tf.keras.layers.Conv2D(128, (3, 3), activation='relu', padding='same')(x)\n",
    "    x = tf.keras.layers.BatchNormalization(axis=-1)(x)\n",
    "\n",
    "    x = tf.keras.layers.Conv2D(128, (3, 3), activation='relu', padding='same')(x)\n",
    "    x = tf.keras.layers.BatchNormalization(axis=-1)(x)\n",
    "    x = tf.keras.layers.MaxPooling2D((2, 2), padding='same')(x)\n",
    "    x = tf.keras.layers.Dropout(0.25)(x)\n",
    "\n",
    "    x = tf.keras.layers.Flatten()(x)\n",
    "    x = tf.keras.layers.Dense(256, activation='relu')(x)\n",
    "    x = tf.keras.layers.BatchNormalization()(x)\n",
    "    x = tf.keras.layers.Dropout(0.5)(x)\n",
    "\n",
    "    x = tf.keras.layers.Dense(2, activation='softmax')(x)\n",
    "  \n",
    "    \n",
    "    covid_model = tf.keras.models.Model(baseModel.input, x)\n",
    "    adagrad=tf.keras.optimizers.Adagrad(lr=0.001)\n",
    "    covid_model.compile(optimizer=adagrad, loss='binary_crossentropy',metrics=[\"accuracy\"])\n",
    "    return covid_model\n",
    "\n"
   ]
  },
  {
   "cell_type": "code",
   "execution_count": 113,
   "metadata": {
    "colab": {
     "base_uri": "https://localhost:8080/",
     "height": 1000
    },
    "colab_type": "code",
    "id": "7eGmPU1c2PRC",
    "outputId": "220da3ac-8220-4933-f91a-d42c7a197a72"
   },
   "outputs": [
    {
     "name": "stdout",
     "output_type": "stream",
     "text": [
      "Model: \"model_16\"\n",
      "_________________________________________________________________\n",
      "Layer (type)                 Output Shape              Param #   \n",
      "=================================================================\n",
      "input_26 (InputLayer)        [(None, 512, 512, 3)]     0         \n",
      "_________________________________________________________________\n",
      "block1_conv1 (Conv2D)        (None, 512, 512, 64)      1792      \n",
      "_________________________________________________________________\n",
      "block1_conv2 (Conv2D)        (None, 512, 512, 64)      36928     \n",
      "_________________________________________________________________\n",
      "block1_pool (MaxPooling2D)   (None, 256, 256, 64)      0         \n",
      "_________________________________________________________________\n",
      "block2_conv1 (Conv2D)        (None, 256, 256, 128)     73856     \n",
      "_________________________________________________________________\n",
      "block2_conv2 (Conv2D)        (None, 256, 256, 128)     147584    \n",
      "_________________________________________________________________\n",
      "block2_pool (MaxPooling2D)   (None, 128, 128, 128)     0         \n",
      "_________________________________________________________________\n",
      "block3_conv1 (Conv2D)        (None, 128, 128, 256)     295168    \n",
      "_________________________________________________________________\n",
      "block3_conv2 (Conv2D)        (None, 128, 128, 256)     590080    \n",
      "_________________________________________________________________\n",
      "block3_conv3 (Conv2D)        (None, 128, 128, 256)     590080    \n",
      "_________________________________________________________________\n",
      "block3_pool (MaxPooling2D)   (None, 64, 64, 256)       0         \n",
      "_________________________________________________________________\n",
      "block4_conv1 (Conv2D)        (None, 64, 64, 512)       1180160   \n",
      "_________________________________________________________________\n",
      "block4_conv2 (Conv2D)        (None, 64, 64, 512)       2359808   \n",
      "_________________________________________________________________\n",
      "block4_conv3 (Conv2D)        (None, 64, 64, 512)       2359808   \n",
      "_________________________________________________________________\n",
      "block4_pool (MaxPooling2D)   (None, 32, 32, 512)       0         \n",
      "_________________________________________________________________\n",
      "block5_conv1 (Conv2D)        (None, 32, 32, 512)       2359808   \n",
      "_________________________________________________________________\n",
      "block5_conv2 (Conv2D)        (None, 32, 32, 512)       2359808   \n",
      "_________________________________________________________________\n",
      "block5_conv3 (Conv2D)        (None, 32, 32, 512)       2359808   \n",
      "_________________________________________________________________\n",
      "block5_pool (MaxPooling2D)   (None, 16, 16, 512)       0         \n",
      "_________________________________________________________________\n",
      "conv2d_109 (Conv2D)          (None, 16, 16, 32)        147488    \n",
      "_________________________________________________________________\n",
      "batch_normalization_126 (Bat (None, 16, 16, 32)        128       \n",
      "_________________________________________________________________\n",
      "max_pooling2d_54 (MaxPooling (None, 8, 8, 32)          0         \n",
      "_________________________________________________________________\n",
      "dropout_72 (Dropout)         (None, 8, 8, 32)          0         \n",
      "_________________________________________________________________\n",
      "conv2d_110 (Conv2D)          (None, 8, 8, 64)          18496     \n",
      "_________________________________________________________________\n",
      "batch_normalization_127 (Bat (None, 8, 8, 64)          256       \n",
      "_________________________________________________________________\n",
      "conv2d_111 (Conv2D)          (None, 8, 8, 64)          36928     \n",
      "_________________________________________________________________\n",
      "batch_normalization_128 (Bat (None, 8, 8, 64)          256       \n",
      "_________________________________________________________________\n",
      "max_pooling2d_55 (MaxPooling (None, 4, 4, 64)          0         \n",
      "_________________________________________________________________\n",
      "dropout_73 (Dropout)         (None, 4, 4, 64)          0         \n",
      "_________________________________________________________________\n",
      "conv2d_112 (Conv2D)          (None, 4, 4, 128)         73856     \n",
      "_________________________________________________________________\n",
      "batch_normalization_129 (Bat (None, 4, 4, 128)         512       \n",
      "_________________________________________________________________\n",
      "conv2d_113 (Conv2D)          (None, 4, 4, 128)         147584    \n",
      "_________________________________________________________________\n",
      "batch_normalization_130 (Bat (None, 4, 4, 128)         512       \n",
      "_________________________________________________________________\n",
      "conv2d_114 (Conv2D)          (None, 4, 4, 128)         147584    \n",
      "_________________________________________________________________\n",
      "batch_normalization_131 (Bat (None, 4, 4, 128)         512       \n",
      "_________________________________________________________________\n",
      "max_pooling2d_56 (MaxPooling (None, 2, 2, 128)         0         \n",
      "_________________________________________________________________\n",
      "dropout_74 (Dropout)         (None, 2, 2, 128)         0         \n",
      "_________________________________________________________________\n",
      "flatten_18 (Flatten)         (None, 512)               0         \n",
      "_________________________________________________________________\n",
      "dense_36 (Dense)             (None, 256)               131328    \n",
      "_________________________________________________________________\n",
      "batch_normalization_132 (Bat (None, 256)               1024      \n",
      "_________________________________________________________________\n",
      "dropout_75 (Dropout)         (None, 256)               0         \n",
      "_________________________________________________________________\n",
      "dense_37 (Dense)             (None, 2)                 514       \n",
      "=================================================================\n",
      "Total params: 15,421,666\n",
      "Trainable params: 5,424,994\n",
      "Non-trainable params: 9,996,672\n",
      "_________________________________________________________________\n"
     ]
    },
    {
     "name": "stderr",
     "output_type": "stream",
     "text": [
      "/usr/local/lib/python3.6/dist-packages/keras_preprocessing/image/image_data_generator.py:716: UserWarning: This ImageDataGenerator specifies `featurewise_center`, but it hasn't been fit on any training data. Fit it first by calling `.fit(numpy_data)`.\n",
      "  warnings.warn('This ImageDataGenerator specifies '\n",
      "/usr/local/lib/python3.6/dist-packages/keras_preprocessing/image/image_data_generator.py:724: UserWarning: This ImageDataGenerator specifies `featurewise_std_normalization`, but it hasn't been fit on any training data. Fit it first by calling `.fit(numpy_data)`.\n",
      "  warnings.warn('This ImageDataGenerator specifies '\n"
     ]
    },
    {
     "name": "stdout",
     "output_type": "stream",
     "text": [
      "Epoch 1/10\n",
      "11/11 [==============================] - 5s 450ms/step - loss: 1.1549 - accuracy: 0.5568 - val_loss: 0.6904 - val_accuracy: 0.5000\n",
      "Epoch 2/10\n",
      "11/11 [==============================] - 5s 419ms/step - loss: 0.7850 - accuracy: 0.6136 - val_loss: 0.6572 - val_accuracy: 0.5000\n",
      "Epoch 3/10\n",
      "11/11 [==============================] - 5s 441ms/step - loss: 0.5961 - accuracy: 0.7386 - val_loss: 0.6470 - val_accuracy: 0.5000\n",
      "Epoch 4/10\n",
      "11/11 [==============================] - 5s 413ms/step - loss: 0.6315 - accuracy: 0.7273 - val_loss: 0.6261 - val_accuracy: 0.5000\n",
      "Epoch 5/10\n",
      "11/11 [==============================] - 5s 420ms/step - loss: 0.6039 - accuracy: 0.7500 - val_loss: 0.5738 - val_accuracy: 0.6818\n",
      "Epoch 6/10\n",
      "11/11 [==============================] - 5s 418ms/step - loss: 0.5652 - accuracy: 0.7841 - val_loss: 0.5226 - val_accuracy: 0.7273\n",
      "Epoch 7/10\n",
      "11/11 [==============================] - 5s 419ms/step - loss: 0.5011 - accuracy: 0.8636 - val_loss: 0.4804 - val_accuracy: 0.7727\n",
      "Epoch 8/10\n",
      "11/11 [==============================] - 5s 416ms/step - loss: 0.3397 - accuracy: 0.8864 - val_loss: 0.4417 - val_accuracy: 0.7727\n",
      "Epoch 9/10\n",
      "11/11 [==============================] - 5s 420ms/step - loss: 0.4909 - accuracy: 0.8068 - val_loss: 0.4178 - val_accuracy: 0.8636\n",
      "Epoch 10/10\n",
      "11/11 [==============================] - 5s 415ms/step - loss: 0.3733 - accuracy: 0.8750 - val_loss: 0.3772 - val_accuracy: 1.0000\n"
     ]
    },
    {
     "data": {
      "text/plain": [
       "<tensorflow.python.keras.callbacks.History at 0x7f633c614828>"
      ]
     },
     "execution_count": 113,
     "metadata": {
      "tags": []
     },
     "output_type": "execute_result"
    }
   ],
   "source": [
    "  model= Covid_model()\n",
    "  model.summary()\n",
    "  early_stopping = tf.keras.callbacks.EarlyStopping(\n",
    "    monitor='val_accuracy', \n",
    "    verbose=1,\n",
    "    patience=15,\n",
    "    mode='max',\n",
    "    restore_best_weights=True)\n",
    "  model.fit_generator(Datagen.flow(x_train, y_train, batch_size=8),\n",
    "                      steps_per_epoch=len(x_train) / 8,\n",
    "                      validation_data=(x_valid, y_valid), epochs=10,callbacks = [early_stopping])"
   ]
  },
  {
   "cell_type": "markdown",
   "metadata": {
    "colab_type": "text",
    "id": "jmQjGHtK0z3r"
   },
   "source": [
    "### **Performance Evaluation**"
   ]
  },
  {
   "cell_type": "code",
   "execution_count": 122,
   "metadata": {
    "colab": {
     "base_uri": "https://localhost:8080/",
     "height": 567
    },
    "colab_type": "code",
    "id": "a_DbFlZ786k2",
    "outputId": "72e4e8b5-d990-4c8c-a0c2-3ffcfe2ba8f3"
   },
   "outputs": [
    {
     "name": "stdout",
     "output_type": "stream",
     "text": [
      "loss :  0.43485933542251587\n",
      "accuracy :  0.8571428656578064\n",
      "\n",
      "              precision    recall  f1-score   support\n",
      "\n",
      "       COVID       0.71      1.00      0.83        10\n",
      "      NORMAL       1.00      0.78      0.88        18\n",
      "\n",
      "    accuracy                           0.86        28\n",
      "   macro avg       0.86      0.89      0.85        28\n",
      "weighted avg       0.90      0.86      0.86        28\n",
      "\n",
      "accuracy: 0.8571\n",
      "sensitivity: 1.0000\n",
      "specificity: 0.7778\n"
     ]
    },
    {
     "data": {
      "text/plain": [
       "Text(0.5, 15.0, 'Predicted label')"
      ]
     },
     "execution_count": 122,
     "metadata": {
      "tags": []
     },
     "output_type": "execute_result"
    },
    {
     "data": {
      "image/png": "[encoded data removed]",
      "text/plain": [
       "<Figure size 360x288 with 2 Axes>"
      ]
     },
     "metadata": {
      "needs_background": "light",
      "tags": []
     },
     "output_type": "display_data"
    }
   ],
   "source": [
    "y_pred = model.predict(x_test, batch_size=8)\n",
    "y_pred = np.argmax(y_pred, axis=1)\n",
    "y_true = np.argmax(y_test, axis=1)\n",
    "\n",
    "\n",
    "predicted_metrics = model.evaluate(x_test, y_test,\n",
    "                                  batch_size=8, verbose=0)\n",
    "for name, value in zip(model.metrics_names, predicted_metrics):\n",
    "  print(name, ': ', value)\n",
    "print(classification_report(y_pred, y_true,\n",
    "\ttarget_names=lb.classes_))\n",
    "cm = confusion_matrix(y_pred, y_true)\n",
    "total = sum(sum(cm))\n",
    "acc = (cm[0, 0] + cm[1, 1]) / total\n",
    "sensitivity = cm[0, 0] / (cm[0, 0] + cm[0, 1])\n",
    "specificity = cm[1, 1] / (cm[1, 0] + cm[1, 1])\n",
    "    \n",
    "print(\"accuracy: {:.4f}\".format(acc))\n",
    "print(\"sensitivity: {:.4f}\".format(sensitivity))\n",
    "print(\"specificity: {:.4f}\".format(specificity))\n",
    "\n",
    "plt.figure(figsize=(5,4))\n",
    "sns.heatmap(cm, annot=True, fmt=\"d\")\n",
    "plt.title('Confusion matrix')\n",
    "plt.ylabel('Actual label')\n",
    "plt.xlabel('Predicted label')\n"
   ]
  }
 ],
 "metadata": {
  "accelerator": "GPU",
  "colab": {
   "name": "Covid_diagnosis.ipynb",
   "provenance": []
  },
  "kernelspec": {
   "display_name": "Python 3",
   "language": "python",
   "name": "python3"
  },
  "language_info": {
   "codemirror_mode": {
    "name": "ipython",
    "version": 3
   },
   "file_extension": ".py",
   "mimetype": "text/x-python",
   "name": "python",
   "nbconvert_exporter": "python",
   "pygments_lexer": "ipython3",
   "version": "3.7.6"
  }
 },
 "nbformat": 4,
 "nbformat_minor": 1
}
